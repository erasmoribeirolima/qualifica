{
 "cells": [
  {
   "cell_type": "code",
   "execution_count": null,
   "metadata": {
    "scrolled": true
   },
   "outputs": [],
   "source": [
    "%matplotlib inline\n",
    "import matplotlib as mpl\n",
    "import numpy as np\n",
    "import matplotlib.pyplot as plt\n",
    "import pandas as pd\n",
    "from sklearn.preprocessing import LabelEncoder\n",
    "from sklearn.preprocessing import minmax_scale\n",
    "from sklearn.decomposition import PCA\n"
   ]
  },
  {
   "cell_type": "code",
   "execution_count": null,
   "metadata": {},
   "outputs": [],
   "source": [
    "#carrega o dataset\n",
    "dados = pd.read_csv('/home/erasmor/Downloads/2017/MachineLearningCVE/2017_todas_classes.csv',sep=\",\",encoding = 'utf-8',  header=0,na_values='.',dtype={'Label':'category'})\n",
    "#remove valores infinitos\n",
    "dados.replace(-np.Inf, np.nan)\n",
    "#substitui valores NaN\n",
    "dados.fillna(dados.mean())\n"
   ]
  },
  {
   "cell_type": "code",
   "execution_count": null,
   "metadata": {},
   "outputs": [],
   "source": [
    "#mostra como está a base de dados\n",
    "dados.dtypes"
   ]
  },
  {
   "cell_type": "code",
   "execution_count": null,
   "metadata": {},
   "outputs": [],
   "source": [
    "dados.memory_usage(deep=True)"
   ]
  },
  {
   "cell_type": "code",
   "execution_count": null,
   "metadata": {},
   "outputs": [],
   "source": [
    "# verifica quantas instâncias (linhas) e quantos atributos (colunas) a base de dados contém\n",
    "print(\"numero de linhas e colunas: \",dados.shape)"
   ]
  },
  {
   "cell_type": "code",
   "execution_count": null,
   "metadata": {},
   "outputs": [],
   "source": [
    "#visualizar distribições por classes contidas no csv - informar nome da classe alvo\n",
    "print(dados.groupby('Label').size())"
   ]
  },
  {
   "cell_type": "code",
   "execution_count": null,
   "metadata": {},
   "outputs": [],
   "source": [
    "#X_raw_normalize = MinMaxScaler(X_raw_normalize.reshape(0, 1)).reshape(len(X_raw_normalize))\n",
    "#X_raw_normalizetd2 = (X_raw_normalize - X_raw_normalize.min(axis=0)) / (X_raw_normalize.max(axis=0) - X_raw_normalize.min(axis=0))\n",
    "# Obtendo os nomes das colunas do DataFrame como uma lista.\n",
    "cols = list(dados.columns)\n",
    "# colunas que nao serao normalizadas\n",
    "cols.remove('Label')\n",
    "# Copiando os dados e aplicando a normalizacao por reescala nas colunas do DataFrame que contem\n",
    "# valores continuos. Por padrao, o metodo minmax_scale reescala com min=0 e max=1.\n",
    "dados = dados[~dados.isin([np.nan, np.inf, -np.inf]).any(1)]\n",
    "dados[cols] = dados[cols].apply(minmax_scale)\n"
   ]
  },
  {
   "cell_type": "code",
   "execution_count": null,
   "metadata": {},
   "outputs": [],
   "source": [
    "#define as colunas de atributos e a coluna da classe (de 0 a 72 são atributos e após a 72 é a classe)\n",
    "# \"X_raw\" é features/atributos e \"y_raw\" é target/classe ==> As duas formas abaixo dão certo.\n",
    "#array = dataset.values\n",
    "#X_raw = array[:,0:72]\n",
    "#y_raw = array[:,72]\n",
    "X_raw = dados.iloc[:, :-1].values # atributos\n",
    "y_raw = dados.iloc[:, 78].values # classe de ataques\n",
    "X_raw = np.nan_to_num(X_raw.astype(np.float32))\n"
   ]
  },
  {
   "cell_type": "code",
   "execution_count": null,
   "metadata": {},
   "outputs": [],
   "source": [
    "#transformar a variável Y com valores categóricos das classses de ataques em valores:\n",
    "labelencoder_y = LabelEncoder()\n",
    "y_raw = labelencoder_y.fit_transform(y_raw)\n"
   ]
  },
  {
   "cell_type": "code",
   "execution_count": null,
   "metadata": {},
   "outputs": [],
   "source": [
    "# Instanciando um PCA. O parametro n_components indica a quantidade de dimensoes que a base\n",
    "# original sera reduzida.\n",
    "pca = PCA(n_components=2, whiten=True,random_state=42)"
   ]
  },
  {
   "cell_type": "code",
   "execution_count": null,
   "metadata": {},
   "outputs": [],
   "source": [
    "# Aplicando o pca na base de dados. O atributo 'values' retorna um numpy.array\n",
    "# de duas dimensões (matriz) contendo apenas os valores numericos do DataFrame.\n",
    "X_raw = pca.fit_transform(X_raw)\n"
   ]
  },
  {
   "cell_type": "code",
   "execution_count": null,
   "metadata": {},
   "outputs": [],
   "source": [
    "def treino(X_raw, y_raw, idx_data, idx_dobra, TRAIN, TEST, classifier):\n",
    "    \n",
    "    from sklearn.neural_network import MLPClassifier\n",
    "    from sklearn.ensemble import RandomForestClassifier\n",
    "    \n",
    "    from xgboost import XGBClassifier\n",
    "    from sklearn import svm\n",
    "    from sklearn.svm import LinearSVC\n",
    "    from sklearn.datasets import make_hastie_10_2\n",
    "    from sklearn.ensemble import GradientBoostingClassifier\n",
    "    from sklearn.tree import DecisionTreeClassifier\n",
    "    from sklearn.naive_bayes import GaussianNB\n",
    "    from sklearn.neighbors import KNeighborsClassifier\n",
    "    from sklearn.metrics import precision_score, recall_score, confusion_matrix, classification_report, accuracy_score, f1_score\n",
    "    import functools\n",
    "    \n",
    "    #define nome de arquivos para salvar\n",
    "    indica_pool=str(idx_dobra)\n",
    "        \n",
    "    # recupera amostras de teste de acordo com a dobra em uso\n",
    "    X_test, y_test = X_raw[idx_data[idx_dobra][TEST]], y_raw[idx_data[idx_dobra][TEST]]\n",
    "    # recupera amostras de treino de acordo com a dobra em uso\n",
    "    X_train, y_train = X_raw[idx_data[idx_dobra][TRAIN]], y_raw[idx_data[idx_dobra][TRAIN]]\n",
    "    \n",
    "    #instancia classificadores de aprendizado\n",
    "    if classifier == \"knn\":\n",
    "        learner = KNeighborsClassifier(n_neighbors=5)\n",
    "        arquivo_performance = open(\"baseline_performance_knn_dobra_\"+indica_pool+\".txt\",\"a\")\n",
    "                \n",
    "    if classifier == \"rf\":\n",
    "        learner = RandomForestClassifier(random_state=42)\n",
    "        arquivo_performance = open(\"baseline_performance_rf_dobra_\"+indica_pool+\".txt\",\"a\")\n",
    "                \n",
    "    if classifier == \"nb\":\n",
    "        learner = GaussianNB()\n",
    "        arquivo_performance = open(\"baseline_performance_nb_dobra_\"+indica_pool+\".txt\",\"a\")\n",
    "                \n",
    "    if classifier == \"tree\":\n",
    "        learner = DecisionTreeClassifier()\n",
    "        arquivo_performance = open(\"baseline_performance_tree_dobra_\"+indica_pool+\".txt\",\"a\")\n",
    "                \n",
    "    if classifier == \"mlp\":\n",
    "        learner = MLPClassifier(max_iter=2000)\n",
    "        arquivo_performance = open(\"baseline_performance_mlp_dobra_\"+indica_pool+\".txt\",\"a\")\n",
    "            \n",
    "    if classifier == \"xgb\":\n",
    "        learner = GradientBoostingClassifier(random_state=42)\n",
    "        arquivo_performance = open(\"baseline_performance_xgb_dobra_\"+indica_pool+\".txt\",\"a\")\n",
    "        \n",
    "    if classifier == \"svm\":\n",
    "        learner = svm.SVC(kernel='linear',probability=True)\n",
    "        arquivo_performance = open(\"baseline_performance_svm_dobra_\"+indica_pool+\".txt\",\"a\")\n",
    "        \n",
    "      \n",
    "    # treina o modelo\n",
    "    learner.fit(X_train, y_train)\n",
    "    predictions=learner.predict(X_test)\n",
    "        \n",
    "    #print('Accuracy: %f' % accuracy_score(y_test,predictions))\n",
    "    arquivo_performance.write('Accuracy %f \\n' % accuracy_score(y_test,predictions))\n",
    "    #print ('Precision:  %f' % precision_score(y_test, predictions,average='macro',zero_division=1))\n",
    "    arquivo_performance.write('Precision: %f \\n' % precision_score(y_test, predictions,average='macro',zero_division=1))\n",
    "    #print ('F1 score: %f' % f1_score(y_test, predictions,average='macro',zero_division=1))\n",
    "    arquivo_performance.write('Recall: %f \\n' % recall_score(y_test, predictions, average='macro',zero_division=1))\n",
    "    #arquivo_performance.write('F1 score: %f \\n' % f1_score(y_test, predictions,average='macro',zero_division=1))\n",
    "    #print ('Recall: %f' % recall_score(y_test, predictions, average='macro',zero_division=1))\n",
    "    f1score= 2*((precision_score(y_test, predictions,average='macro',zero_division=1)*recall_score(y_test, predictions, average='macro',zero_division=1))/(precision_score(y_test, predictions,average='macro',zero_division=1)+recall_score(y_test, predictions, average='macro',zero_division=1)))\n",
    "    arquivo_performance.write('F1 score: %f \\n' % f1score)\n",
    "    #print(\"========================================\")\n",
    "    arquivo_performance.write(\"\\n Avaliação por classe \\n\")\n",
    "    arquivo_performance.write(classification_report(y_test, predictions,zero_division=1))\n",
    "    arquivo_performance.close()\n",
    "\n",
    "    \n",
    "      \n",
    "\n",
    "import time\n",
    "import sys\n",
    "import threading\n",
    "from datetime import datetime\n",
    "from datetime import date\n",
    "\n",
    "from sklearn.model_selection import StratifiedShuffleSplit, ShuffleSplit, train_test_split\n",
    "from modAL.uncertainty import classifier_uncertainty\n",
    "from modAL.models import ActiveLearner\n",
    "from modAL.uncertainty import uncertainty_sampling\n",
    "from timeit import Timer\n",
    "import time\n",
    "import functools\n",
    "\n",
    "#inicia relogio\n",
    "t1 = time.time()\n",
    "# Define o tamanho das divisões feitas no dataset (cross-validation)\n",
    "n_splits = 10\n",
    "\n",
    "#define array de indices das partições\n",
    "idx_data =[]\n",
    "# cross validation bags - n_splits\n",
    "data_cv = StratifiedShuffleSplit(n_splits= n_splits, train_size=350,test_size=350, random_state=42) \n",
    "data_cv.get_n_splits(X_raw, y_raw)\n",
    "# chame a instância e gere os dados sobre a base original\n",
    "type(data_cv.split(X_raw, y_raw))\n",
    "# dividir os dados - A função split.split () retorna índices para amostras de treino e amostras de teste. \n",
    "# Ele examinará o número de validação cruzada especificado e retornará cada vez que treinar \n",
    "# e testar os índices de amostra usando os conjuntos de dados de treinamento e teste que podem \n",
    "# ser criados filtrando o conjunto de dados inteiro. Por exemplo idx_data[0][1], o primeiro indice faz referencia\n",
    "# a dobra e o segundo indice faz referencia a posição da dobra (0 = treino e 1 = teste)\n",
    "for train_index, test_index in data_cv.split(X_raw,y_raw):\n",
    "    #print(\"TRAIN:\", train_index, \"TEST:\", test_index)\n",
    "    #print(\"n_split\",n_splits,\"TRAIN:\", train_index, \"TEST:\", test_index)\n",
    "    idx_data.append([train_index, test_index])\n",
    "#verifica tamanho das dobras (numero de instâncias de cada dobra)\n",
    "#print(\"tamanho de cada dobra: \",idx_data[3][0].shape)\n",
    "\n",
    "TRAIN =0\n",
    "TEST =1\n",
    "#chama procedimento de aprendizado para todas as dobras\n",
    "\n",
    "classificador_knn=\"knn\"\n",
    "classificador_rf=\"rf\"\n",
    "classificador_nb=\"nb\"\n",
    "classificador_tree=\"tree\"\n",
    "classificador_mlp=\"mlp\"\n",
    "classificador_xgb=\"xgb\"\n",
    "classificador_svm=\"svm\"\n",
    "\n",
    "for idx_dobra in range(n_dobras):    \n",
    "    threading.Thread(target=treino(X_raw, y_raw, idx_data, idx_dobra, TRAIN, TEST, classificador_knn)).start()\n",
    "    threading.Thread(target=treino(X_raw, y_raw, idx_data, idx_dobra, TRAIN, TEST, classificador_rf)).start()\n",
    "    threading.Thread(target=treino(X_raw, y_raw, idx_data, idx_dobra, TRAIN, TEST, classificador_nb)).start()\n",
    "    threading.Thread(target=treino(X_raw, y_raw, idx_data, idx_dobra, TRAIN, TEST, classificador_mlp)).start()\n",
    "    threading.Thread(target=treino(X_raw, y_raw, idx_data, idx_dobra, TRAIN, TEST, classificador_xgb)).start()\n",
    "    threading.Thread(target=treino(X_raw, y_raw, idx_data, idx_dobra, TRAIN, TEST, classificador_tree)).start()\n",
    "    threading.Thread(target=treino(X_raw, y_raw, idx_data, idx_dobra, TRAIN, TEST, classificador_svm)).start()\n",
    "    \n",
    "    \n",
    "t2 = time.time()\n",
    "time_elapsed = (t2-t1)/3600\n",
    "print(\"tempo: \",time_elapsed)"
   ]
  },
  {
   "cell_type": "code",
   "execution_count": null,
   "metadata": {},
   "outputs": [],
   "source": []
  },
  {
   "cell_type": "code",
   "execution_count": null,
   "metadata": {},
   "outputs": [],
   "source": []
  },
  {
   "cell_type": "code",
   "execution_count": null,
   "metadata": {},
   "outputs": [],
   "source": []
  },
  {
   "cell_type": "code",
   "execution_count": null,
   "metadata": {},
   "outputs": [],
   "source": []
  }
 ],
 "metadata": {
  "kernelspec": {
   "display_name": "Python 3",
   "language": "python",
   "name": "python3"
  },
  "language_info": {
   "codemirror_mode": {
    "name": "ipython",
    "version": 3
   },
   "file_extension": ".py",
   "mimetype": "text/x-python",
   "name": "python",
   "nbconvert_exporter": "python",
   "pygments_lexer": "ipython3",
   "version": "3.6.9"
  }
 },
 "nbformat": 4,
 "nbformat_minor": 4
}
