{
 "cells": [
  {
   "cell_type": "code",
   "execution_count": null,
   "metadata": {
    "scrolled": true
   },
   "outputs": [],
   "source": [
    "%matplotlib inline\n",
    "import matplotlib as mpl\n",
    "import numpy as np\n",
    "import matplotlib.pyplot as plt\n",
    "import pandas as pd\n",
    "from sklearn.preprocessing import LabelEncoder\n",
    "from sklearn.preprocessing import minmax_scale\n",
    "from sklearn.decomposition import PCA\n"
   ]
  },
  {
   "cell_type": "code",
   "execution_count": null,
   "metadata": {},
   "outputs": [],
   "source": [
    "#carrega o dataset\n",
    "dados = pd.read_csv('/home/erasmor/Área de Trabalho/CSE-CIC-IDS2018/baixa-representatividade-todos.csv',sep=\",\",encoding = 'utf-8',  header=0,na_values='.')\n",
    "#dados20 = pd.read_csv('/home/erasmor/Área de Trabalho/CSE-CIC-IDS2018/11-amostras-todos.csv',sep=\",\",encoding = 'utf-8',  header=0,na_values='.')\n",
    "\n",
    "#remove valores infinitos\n",
    "dados.replace(-np.Inf, np.nan)\n",
    "\n",
    "#substitui valores NaN\n",
    "dados.fillna(dados.mean())\n",
    "\n"
   ]
  },
  {
   "cell_type": "code",
   "execution_count": null,
   "metadata": {},
   "outputs": [],
   "source": [
    "#mostra como está a base de dados\n",
    "dados.head()"
   ]
  },
  {
   "cell_type": "code",
   "execution_count": null,
   "metadata": {},
   "outputs": [],
   "source": [
    "#visualizar distribições por classes contidas no csv - informar nome da classe alvo\n",
    "print(dados.groupby('Label').size())"
   ]
  },
  {
   "cell_type": "code",
   "execution_count": null,
   "metadata": {},
   "outputs": [],
   "source": [
    "#X_raw_normalize = MinMaxScaler(X_raw_normalize.reshape(0, 1)).reshape(len(X_raw_normalize))\n",
    "#X_raw_normalizetd2 = (X_raw_normalize - X_raw_normalize.min(axis=0)) / (X_raw_normalize.max(axis=0) - X_raw_normalize.min(axis=0))\n",
    "# Obtendo os nomes das colunas do DataFrame como uma lista.\n",
    "cols = list(dados.columns)\n",
    "# colunas que nao serao normalizadas\n",
    "cols.remove('Label')\n",
    "# Copiando os dados e aplicando a normalizacao por reescala nas colunas do DataFrame que contem\n",
    "# valores continuos. Por padrao, o metodo minmax_scale reescala com min=0 e max=1.\n",
    "dados = dados[~dados.isin([np.nan, np.inf, -np.inf]).any(1)]\n",
    "dados[cols] = dados[cols].apply(minmax_scale)\n"
   ]
  },
  {
   "cell_type": "code",
   "execution_count": null,
   "metadata": {},
   "outputs": [],
   "source": [
    "#define as colunas de atributos e a coluna da classe (de 0 a 72 são atributos e após a 72 é a classe)\n",
    "# \"X_raw\" é features/atributos e \"y_raw\" é target/classe ==> As duas formas abaixo dão certo.\n",
    "#array = dataset.values\n",
    "#X_raw = array[:,0:72]\n",
    "#y_raw = array[:,72]\n",
    "X_raw = dados.iloc[:, :-1].values # atributos\n",
    "y_raw = dados.iloc[:, 78].values # classe de ataques\n",
    "X_raw = np.nan_to_num(X_raw.astype(np.float32))"
   ]
  },
  {
   "cell_type": "code",
   "execution_count": null,
   "metadata": {},
   "outputs": [],
   "source": [
    "#transformar a variável Y com valores categóricos das classses de ataques em valores:\n",
    "labelencoder_y = LabelEncoder()\n",
    "y_raw = labelencoder_y.fit_transform(y_raw)\n"
   ]
  },
  {
   "cell_type": "code",
   "execution_count": null,
   "metadata": {},
   "outputs": [],
   "source": [
    "# Instanciando um PCA. O parametro n_components indica a quantidade de dimensoes que a base\n",
    "# original sera reduzida.\n",
    "pca = PCA(n_components=2, whiten=True,random_state=0)"
   ]
  },
  {
   "cell_type": "code",
   "execution_count": null,
   "metadata": {},
   "outputs": [],
   "source": [
    "# Aplicando o pca na base de dados. O atributo 'values' retorna um numpy.array\n",
    "# de duas dimensões (matriz) contendo apenas os valores numericos do DataFrame.\n",
    "dados_pca = pca.fit_transform(dados[cols].values)\n"
   ]
  },
  {
   "cell_type": "code",
   "execution_count": null,
   "metadata": {},
   "outputs": [],
   "source": [
    "def base_line(X_raw, y_raw, idx_data, idx_pool, TRAIN, TEST, classifier):\n",
    "    \n",
    "    from sklearn.neural_network import MLPClassifier\n",
    "    from sklearn.ensemble import RandomForestClassifier\n",
    "    from sklearn.tree import DecisionTreeClassifier\n",
    "    from sklearn.naive_bayes import GaussianNB\n",
    "    from sklearn.neighbors import KNeighborsClassifier\n",
    "    from sklearn.metrics import precision_score, recall_score, confusion_matrix, classification_report, accuracy_score, f1_score\n",
    "    import functools\n",
    "    from IPython.display import clear_output\n",
    "    \n",
    "    #define nome de arquivos para salvar\n",
    "    indica_pool=str(idx_pool)\n",
    "    arquivo_performance_knn = (\"baseline_performance_knn_dobra_\"+indica_pool+\".csv\")\n",
    "    arquivo_performance_rf = (\"baseline_performance_rf_dobra_\"+indica_pool+\".csv\")\n",
    "    arquivo_performance_nb = (\"baseline_performance_nb_dobra_\"+indica_pool+\".csv\")\n",
    "    arquivo_performance_tree = (\"baseline_performance_tree_dobra_\"+indica_pool+\".csv\")\n",
    "    arquivo_performance_mlp = (\"baseline_performance_mlp_dobra_\"+indica_pool+\".csv\")\n",
    "    # recupera amostras de teste \n",
    "    X_test, y_test = X_raw[idx_data[idx_pool][TEST]], y_raw[idx_data[idx_pool][TEST]]\n",
    "    # recupera amostras de treino \n",
    "    X_train, y_train = X_raw[idx_data[idx_pool][TRAIN]], y_raw[idx_data[idx_pool][TRAIN]]\n",
    "    #para saber o numero de amostras\n",
    "    amostras=X_train.shape\n",
    "    n_amostras = int(amostras[0])\n",
    "    #print(\"numero de amostras de cada dobra: \", n_amostras)\n",
    "    #define array de performance\n",
    "    performance_history = []\n",
    "\n",
    "    #instancia classificadores de aprendizado\n",
    "    if classifier == \"knn\":\n",
    "        learner = KNeighborsClassifier(n_neighbors=3)\n",
    "        arquivo_performance = open(\"baseline_performance_knn_dobra_\"+indica_pool+\".txt\",\"a\")\n",
    "        arquivo_history = (\"baseline_history_knn_dobra_\"+indica_pool+\".csv\")\n",
    "        titulo_grafico = 'Incremental classification accuracy KNN'\n",
    "        \n",
    "    if classifier == \"rf\":\n",
    "        learner = RandomForestClassifier(max_depth=2)\n",
    "        arquivo_performance = open(\"baseline_performance_rf_dobra_\"+indica_pool+\".txt\",\"a\")\n",
    "        arquivo_history = (\"baseline_history_rf_dobra_\"+indica_pool+\".csv\")\n",
    "        titulo_grafico = 'Incremental classification accuracy RF'\n",
    "        \n",
    "    if classifier == \"nb\":\n",
    "        learner = GaussianNB()\n",
    "        arquivo_performance = open(\"baseline_performance_nb_dobra_\"+indica_pool+\".txt\",\"a\")\n",
    "        arquivo_history = (\"baseline_history_nb_dobra_\"+indica_pool+\".csv\")\n",
    "        titulo_grafico = 'Incremental classification accuracy NB'\n",
    "        \n",
    "    if classifier == \"tree\":\n",
    "        learner = DecisionTreeClassifier()\n",
    "        arquivo_performance = open(\"baseline_performance_tree_dobra_\"+indica_pool+\".txt\",\"a\")\n",
    "        arquivo_history = (\"baseline_history_tree_dobra_\"+indica_pool+\".csv\")\n",
    "        titulo_grafico = 'Incremental classification accuracy TREE'\n",
    "          \n",
    "     \n",
    "      \n",
    "    # treina o modelo\n",
    "    learner.fit(X_train, y_train)\n",
    "    predictions=learner.predict(X_test)\n",
    "        \n",
    "    #print('Accuracy: %f' % accuracy_score(y_test,predictions))\n",
    "    arquivo_performance.write('Accuracy %f \\n' % accuracy_score(y_test,predictions))\n",
    "    performance_history.append(accuracy_score(y_test,predictions))\n",
    "    #print ('Precision:  %f' % precision_score(y_test, predictions,average='macro',zero_division=1))\n",
    "    arquivo_performance.write('Precision: %f \\n' % precision_score(y_test, predictions,average='macro',zero_division=1))\n",
    "    #print ('Recall: %f' % recall_score(y_test, predictions, average='macro',zero_division=1))\n",
    "    arquivo_performance.write('Recall: %f \\n' % recall_score(y_test, predictions, average='macro',zero_division=1))\n",
    "    #print ('F1 score: %f' % f1_score(y_test, predictions,average='macro',zero_division=1))\n",
    "    arquivo_performance.write('F1 score: %f \\n' % f1_score(y_test, predictions,average='macro',zero_division=1))\n",
    "    #print(\"========================================\")\n",
    "    performance_history_global.append(accuracy_score(y_test,predictions))\n",
    "    np.savetxt(arquivo_history, performance_history,delimiter=\",\")\n",
    "    arquivo_performance.close()\n",
    "    for i in range(10):\n",
    "        clear_output(wait=True)\n",
    "        print(i,\"Aguarde, em execução!\"flush=True)\n",
    "\n",
    "    \n",
    "      \n",
    "\n",
    "import time\n",
    "import sys\n",
    "from datetime import datetime\n",
    "from datetime import date\n",
    "\n",
    "from sklearn.model_selection import StratifiedShuffleSplit, ShuffleSplit, train_test_split\n",
    "from modAL.uncertainty import classifier_uncertainty\n",
    "from modAL.models import ActiveLearner\n",
    "from modAL.uncertainty import uncertainty_sampling\n",
    "from timeit import Timer\n",
    "import time\n",
    "import functools\n",
    "\n",
    "#inicia relogio\n",
    "t1 = time.time()\n",
    "# Define o tamanho das divisões feitas no dataset (cross-validation)\n",
    "n_splits = 10\n",
    "#define array de performance\n",
    "performance_history_global = []\n",
    "\n",
    "#define array de indices das partições\n",
    "idx_data =[]\n",
    "# cross validation bags - n_splits\n",
    "data_cv = StratifiedShuffleSplit(n_splits= n_splits, random_state=0) \n",
    "data_cv.get_n_splits(X_raw, y_raw)\n",
    "# chame a instância e gere os dados sobre a base original\n",
    "type(data_cv.split(X_raw, y_raw))\n",
    "# dividir os dados - A função split.split () retorna índices para amostras de treino e amostras de teste. \n",
    "# Ele examinará o número de validação cruzada especificado e retornará cada vez que treinar \n",
    "# e testar os índices de amostra usando os conjuntos de dados de treinamento e teste que podem \n",
    "# ser criados filtrando o conjunto de dados inteiro. Por exemplo idx_data[0][1], o primeiro indice faz referencia\n",
    "# a dobra e o segundo indice faz referencia a posição da dobra (0 = treino e 1 = teste). Logo TRAIN=0 e TEST=1\n",
    "for train_index, test_index in data_cv.split(X_raw,y_raw):\n",
    "    #print(\"TRAIN:\", train_index, \"TEST:\", test_index)\n",
    "    #print(\"n_split\",n_splits,\"TRAIN:\", train_index, \"TEST:\", test_index)\n",
    "    idx_data.append([train_index, test_index])\n",
    "TRAIN =0\n",
    "TEST =1\n",
    "#chama procedimento de aprendizado para todas as dobras\n",
    "classificadores=['knn','rf','nb','tree']\n",
    "#classificadores=['knn']\n",
    "for classificador in classificadores:\n",
    "    classifier = classificador\n",
    "    for idx_pool in range(n_splits):\n",
    "        base_line(X_raw, y_raw, idx_data, idx_pool, TRAIN, TEST, classifier)\n",
    "\n",
    "t2 = time.time()\n",
    "time_elapsed = (t2-t1)/3600\n",
    "print(\"tempo: \",time_elapsed)\n",
    "print(\"performance global: \",np.average(performance_history_global))"
   ]
  },
  {
   "cell_type": "code",
   "execution_count": null,
   "metadata": {},
   "outputs": [],
   "source": []
  },
  {
   "cell_type": "code",
   "execution_count": null,
   "metadata": {},
   "outputs": [],
   "source": []
  },
  {
   "cell_type": "code",
   "execution_count": null,
   "metadata": {},
   "outputs": [],
   "source": []
  },
  {
   "cell_type": "code",
   "execution_count": null,
   "metadata": {},
   "outputs": [],
   "source": []
  }
 ],
 "metadata": {
  "kernelspec": {
   "display_name": "Python 3",
   "language": "python",
   "name": "python3"
  },
  "language_info": {
   "codemirror_mode": {
    "name": "ipython",
    "version": 3
   },
   "file_extension": ".py",
   "mimetype": "text/x-python",
   "name": "python",
   "nbconvert_exporter": "python",
   "pygments_lexer": "ipython3",
   "version": "3.6.9"
  }
 },
 "nbformat": 4,
 "nbformat_minor": 4
}
