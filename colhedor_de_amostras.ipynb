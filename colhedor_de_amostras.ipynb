{
 "cells": [
  {
   "cell_type": "code",
   "execution_count": null,
   "metadata": {
    "scrolled": true
   },
   "outputs": [],
   "source": [
    "%matplotlib inline\n",
    "import matplotlib as mpl\n",
    "import numpy as np\n",
    "import matplotlib.pyplot as plt\n",
    "import pandas as pd\n",
    "from sklearn.preprocessing import LabelEncoder\n",
    "from sklearn.preprocessing import minmax_scale\n",
    "from sklearn.decomposition import PCA\n"
   ]
  },
  {
   "cell_type": "code",
   "execution_count": null,
   "metadata": {},
   "outputs": [],
   "source": [
    "#carrega o dataset\n",
    "dados = pd.read_csv('/home/erasmor/Área de Trabalho/CSE-CIC-IDS2018/limpos/brutos/com_cabecalho/DoS-attacks-Slowloris.csv',sep=\",\",encoding = 'utf-8',  header=0,na_values='.')\n",
    "\n",
    "#remove valores infinitos\n",
    "dados.replace(-np.Inf, np.nan)\n",
    "\n",
    "#substitui valores NaN\n",
    "dados.fillna(dados.mean())\n",
    "#define tamanho da amostragem\n",
    "tamanho_amostra = 5000\n",
    "# obtem as classes da base de dados\n",
    "classes = dados['Label'].unique()\n",
    "# na lista será armazenado para cada classe, um pandas.DataFrame com suas amostras\n",
    "amostras_por_classe = []\n",
    "for c in classes:\n",
    "    # obtendo os indices do DataFrame cujas instancias pertencem a classe c\n",
    "    indices_c = dados['Label'] == c\n",
    "    # extraindo do DataFrame original as observacoes da classe c (obs_c sera um DataFrame tambem)\n",
    "    obs_c = dados[indices_c]\n",
    "    # calculando a proporcao de elementos da classe c no DataFrame original\n",
    "    proporcao_c = len(obs_c) / len(dados)\n",
    "    # calculando a quantidade de elementos da classe c que estarao contidos na amostra estratificada\n",
    "    qtde_c = round(proporcao_c * tamanho_amostra)\n",
    "    # extraindo a amostra da classe c caso deseje-se realizar amostra com reposicao ou,\n",
    "    # caso len(obs_c) < qtde_c, pode-se\n",
    "    # informar o parametro replace=True\n",
    "    amostra_c = obs_c.sample(qtde_c,replace=True)\n",
    "    # armazenando a amostra_c na lista de amostras\n",
    "    amostras_por_classe.append(amostra_c)\n",
    "# concatenando as amostras de cada classe em\n",
    "# um único DataFrame\n",
    "amostra_estratificada = pd.concat(amostras_por_classe)\n"
   ]
  },
  {
   "cell_type": "code",
   "execution_count": null,
   "metadata": {},
   "outputs": [],
   "source": [
    "#mostra como está a base de dados\n",
    "amostra_estratificada.head()"
   ]
  },
  {
   "cell_type": "code",
   "execution_count": null,
   "metadata": {},
   "outputs": [],
   "source": [
    "# verifica quantas instâncias (linhas) e quantos atributos (colunas) a base de dados contém\n",
    "print(\"numero de linhas e colunas: \",amostra_estratificada.shape)"
   ]
  },
  {
   "cell_type": "code",
   "execution_count": null,
   "metadata": {},
   "outputs": [],
   "source": [
    "#visualizar distribições por classes contidas no csv - informar nome da classe alvo\n",
    "print(amostra_estratificada.groupby('Label').size())"
   ]
  },
  {
   "cell_type": "code",
   "execution_count": null,
   "metadata": {},
   "outputs": [],
   "source": [
    "amostra_estratificada.to_csv ('DoS-attacks-Slowloris_estratificado.csv')"
   ]
  },
  {
   "cell_type": "code",
   "execution_count": null,
   "metadata": {},
   "outputs": [],
   "source": []
  }
 ],
 "metadata": {
  "kernelspec": {
   "display_name": "Python 3",
   "language": "python",
   "name": "python3"
  },
  "language_info": {
   "codemirror_mode": {
    "name": "ipython",
    "version": 3
   },
   "file_extension": ".py",
   "mimetype": "text/x-python",
   "name": "python",
   "nbconvert_exporter": "python",
   "pygments_lexer": "ipython3",
   "version": "3.6.9"
  }
 },
 "nbformat": 4,
 "nbformat_minor": 4
}
